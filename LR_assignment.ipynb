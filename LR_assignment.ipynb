{
  "cells": [
    {
      "cell_type": "code",
      "source": [
        "import numpy as np\n",
        "from LinearRegression import LinearRegression"
      ],
      "metadata": {
        "id": "7YlxUvutdfrX"
      },
      "execution_count": 1,
      "outputs": []
    },
    {
      "cell_type": "code",
      "source": [
        "X = np.array([[1], [2], [3], [4], [5]])\n",
        "y = np.array([3.1, 4.9, 7.2, 8.8, 11.1])"
      ],
      "metadata": {
        "id": "AyXkO6qAcDsN"
      },
      "execution_count": 2,
      "outputs": []
    },
    {
      "cell_type": "code",
      "source": [
        "model1 = LinearRegression.LRAnalytical()\n",
        "model1.fit(X, y)\n",
        "res1 = model1.predict(X)\n",
        "print(res1)"
      ],
      "metadata": {
        "colab": {
          "base_uri": "https://localhost:8080/"
        },
        "id": "cWiwIDQKdesF",
        "outputId": "2e44a5fd-e1b1-4716-e98e-27937e85aacb"
      },
      "execution_count": 3,
      "outputs": [
        {
          "output_type": "stream",
          "name": "stdout",
          "text": [
            "[ 3.04  5.03  7.02  9.01 11.  ]\n"
          ]
        }
      ]
    },
    {
      "cell_type": "code",
      "source": [
        "from sklearn import linear_model"
      ],
      "metadata": {
        "id": "c5cycLpvel2-"
      },
      "execution_count": 4,
      "outputs": []
    },
    {
      "cell_type": "code",
      "source": [
        "skmodel1 = linear_model.LinearRegression()\n",
        "skmodel1.fit(X, y)\n",
        "skres = skmodel1.predict(X)\n",
        "print(skres)"
      ],
      "metadata": {
        "colab": {
          "base_uri": "https://localhost:8080/"
        },
        "id": "FpRd2izxej69",
        "outputId": "68fafd84-7eb8-47fd-9ace-4a8797da4058"
      },
      "execution_count": 5,
      "outputs": [
        {
          "output_type": "stream",
          "name": "stdout",
          "text": [
            "[ 3.04  5.03  7.02  9.01 11.  ]\n"
          ]
        }
      ]
    },
    {
      "cell_type": "code",
      "source": [
        "from sklearn.linear_model import SGDRegressor"
      ],
      "metadata": {
        "id": "R1SUAffefvax"
      },
      "execution_count": 6,
      "outputs": []
    },
    {
      "cell_type": "code",
      "source": [
        "model = LinearRegression.LRStochastic(reg='l2')\n",
        "model.fit(X, y, batch_size=1)\n",
        "res = model.predict(X)\n",
        "print(res)"
      ],
      "metadata": {
        "colab": {
          "base_uri": "https://localhost:8080/"
        },
        "id": "uMBctlNmfxy1",
        "outputId": "ba1cd7ed-00c6-4b5f-d49a-e9924c756181"
      },
      "execution_count": 7,
      "outputs": [
        {
          "output_type": "stream",
          "name": "stdout",
          "text": [
            "[ 3.06444795  5.0544672   7.04448646  9.03450571 11.02452497]\n"
          ]
        }
      ]
    },
    {
      "cell_type": "code",
      "source": [
        "model = LinearRegression.LRStochastic()\n",
        "model.fit(X, y, batch_size=1)\n",
        "res = model.predict(X)\n",
        "print(res)"
      ],
      "metadata": {
        "colab": {
          "base_uri": "https://localhost:8080/"
        },
        "id": "q1XRkI_Ag0j3",
        "outputId": "d20d7fc9-6e19-4cf9-a5d6-d2e3325b682a"
      },
      "execution_count": 8,
      "outputs": [
        {
          "output_type": "stream",
          "name": "stdout",
          "text": [
            "[ 3.03524031  5.02733977  7.01943923  9.01153869 11.00363815]\n"
          ]
        }
      ]
    },
    {
      "cell_type": "code",
      "source": [
        "skmodel = SGDRegressor()\n",
        "skmodel.fit(X, y)\n",
        "res = skmodel.predict(X)\n",
        "print(res)"
      ],
      "metadata": {
        "colab": {
          "base_uri": "https://localhost:8080/"
        },
        "id": "X7kDp0vmgIKK",
        "outputId": "03f346c5-b615-44ce-a804-39bef9a97114"
      },
      "execution_count": 9,
      "outputs": [
        {
          "output_type": "stream",
          "name": "stdout",
          "text": [
            "[ 2.70508894  4.81261091  6.92013288  9.02765486 11.13517683]\n"
          ]
        }
      ]
    },
    {
      "cell_type": "code",
      "source": [
        "model = LinearRegression.LRClassic()\n",
        "model.fit(X, y)\n",
        "res = model.predict(X)\n",
        "print(res)"
      ],
      "metadata": {
        "colab": {
          "base_uri": "https://localhost:8080/"
        },
        "id": "w-cL_32Bg4If",
        "outputId": "cf7e01cd-4635-45d0-8c8e-aade58e08d38"
      },
      "execution_count": 10,
      "outputs": [
        {
          "output_type": "stream",
          "name": "stdout",
          "text": [
            "[ 3.02867203  5.02301172  7.01735141  9.0116911  11.0060308 ]\n"
          ]
        }
      ]
    },
    {
      "cell_type": "code",
      "source": [
        "from sklearn import metrics"
      ],
      "metadata": {
        "id": "uk3FyiE0g-HR"
      },
      "execution_count": 11,
      "outputs": []
    },
    {
      "cell_type": "code",
      "source": [
        "print(\"sklearn MSE:\", metrics.mean_squared_error(y, skres))\n",
        "print(\"My MSE:\", LinearRegression.LossAndDerivatives.mse(X, y, model1.weights, model1.bias))"
      ],
      "metadata": {
        "colab": {
          "base_uri": "https://localhost:8080/"
        },
        "id": "mRvH3QcGhpNy",
        "outputId": "cdc860a7-0407-46a4-b1b1-345273d0bdd9"
      },
      "execution_count": 12,
      "outputs": [
        {
          "output_type": "stream",
          "name": "stdout",
          "text": [
            "sklearn MSE: 0.02139999999999991\n",
            "My MSE: 0.02139999999999985\n"
          ]
        }
      ]
    },
    {
      "cell_type": "code",
      "source": [
        "print(\"sklearn MAE:\", metrics.mean_absolute_error(y, skres))\n",
        "print(\"My MAE:\", LinearRegression.LossAndDerivatives.mae(X, y, model1.weights, model1.bias))"
      ],
      "metadata": {
        "colab": {
          "base_uri": "https://localhost:8080/"
        },
        "id": "PPhDXnFtiKI2",
        "outputId": "2fe0b4f9-adf2-4c9e-c6ee-9987df27bfc4"
      },
      "execution_count": 13,
      "outputs": [
        {
          "output_type": "stream",
          "name": "stdout",
          "text": [
            "sklearn MAE: 0.13599999999999968\n",
            "My MAE: 0.13600000000000073\n"
          ]
        }
      ]
    },
    {
      "cell_type": "code",
      "source": [
        "print(\"sklearn MAPE:\", metrics.mean_absolute_percentage_error(y, skres))\n",
        "print(\"My MAPE:\", LinearRegression.LossAndDerivatives.mape(X, y, model1.weights, model1.bias))"
      ],
      "metadata": {
        "colab": {
          "base_uri": "https://localhost:8080/"
        },
        "id": "fPt8cII8iQd1",
        "outputId": "aed561b1-d885-48e6-b8b1-c0b15c427649"
      },
      "execution_count": 14,
      "outputs": [
        {
          "output_type": "stream",
          "name": "stdout",
          "text": [
            "sklearn MAPE: 0.02075161926544409\n",
            "My MAPE: 0.02075161926544472\n"
          ]
        }
      ]
    },
    {
      "cell_type": "code",
      "source": [
        "print(\"sklearn R2:\", metrics.r2_score(y, skres))\n",
        "print(\"My R2:\", LinearRegression.LossAndDerivatives.r2_score(X, y, model1.weights, model1.bias))"
      ],
      "metadata": {
        "colab": {
          "base_uri": "https://localhost:8080/"
        },
        "id": "GLoYdCwTi5Sj",
        "outputId": "5c538346-9bdc-42a6-8dcc-45bfd65a7543"
      },
      "execution_count": 15,
      "outputs": [
        {
          "output_type": "stream",
          "name": "stdout",
          "text": [
            "sklearn R2: 0.9973053289009771\n",
            "My R2: 0.9973053289009771\n"
          ]
        }
      ]
    }
  ],
  "metadata": {
    "colab": {
      "provenance": []
    },
    "kernelspec": {
      "display_name": "Py3 Research",
      "language": "python",
      "name": "py3_research_kernel"
    },
    "language_info": {
      "codemirror_mode": {
        "name": "ipython",
        "version": 3
      },
      "file_extension": ".py",
      "mimetype": "text/x-python",
      "name": "python",
      "nbconvert_exporter": "python",
      "pygments_lexer": "ipython3",
      "version": "3.9.7"
    }
  },
  "nbformat": 4,
  "nbformat_minor": 0
}